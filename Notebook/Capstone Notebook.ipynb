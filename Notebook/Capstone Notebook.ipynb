{
 "cells": [
  {
   "cell_type": "code",
   "execution_count": 1,
   "id": "be8c5c78-a3b6-44da-86b3-588207891dd4",
   "metadata": {},
   "outputs": [],
   "source": [
    "import pandas as pd\n",
    "import numpy as np\n",
    "import matplotlib.pyplot as plt\n",
    "import seaborn as sns"
   ]
  },
  {
   "cell_type": "markdown",
   "id": "11fe0a44-2aee-48a9-96e9-ce64b7b5c083",
   "metadata": {},
   "source": [
    "# This notebook is for the 'Electricity Access Sub-topic'"
   ]
  },
  {
   "cell_type": "code",
   "execution_count": 13,
   "id": "853f65ef-5c34-4e16-98de-2261b91d4907",
   "metadata": {},
   "outputs": [
    {
     "name": "stdout",
     "output_type": "stream",
     "text": [
      "<class 'pandas.core.frame.DataFrame'>\n",
      "RangeIndex: 112 entries, 0 to 111\n",
      "Data columns (total 38 columns):\n",
      " #   Column                    Non-Null Count  Dtype  \n",
      "---  ------                    --------------  -----  \n",
      " 0   Country Categories        112 non-null    object \n",
      " 1   Unnamed: 1                112 non-null    object \n",
      " 2   Unnamed: 2                112 non-null    object \n",
      " 3   Unnamed: 3                0 non-null      float64\n",
      " 4   Pillar Scores             112 non-null    object \n",
      " 5   Unnamed: 5                112 non-null    object \n",
      " 6   Unnamed: 6                112 non-null    object \n",
      " 7   Unnamed: 7                112 non-null    object \n",
      " 8   Unnamed: 8                0 non-null      float64\n",
      " 9   Pillar: Energy Access     112 non-null    object \n",
      " 10  Unnamed: 10               112 non-null    object \n",
      " 11  Unnamed: 11               112 non-null    object \n",
      " 12  Unnamed: 12               112 non-null    object \n",
      " 13  Unnamed: 13               112 non-null    object \n",
      " 14  Unnamed: 14               112 non-null    object \n",
      " 15  Unnamed: 15               112 non-null    object \n",
      " 16  Unnamed: 16               112 non-null    object \n",
      " 17  Unnamed: 17               0 non-null      float64\n",
      " 18  Pillar: Energy Efficency  112 non-null    object \n",
      " 19  Unnamed: 19               112 non-null    object \n",
      " 20  Unnamed: 20               112 non-null    object \n",
      " 21  Unnamed: 21               112 non-null    object \n",
      " 22  Unnamed: 22               112 non-null    object \n",
      " 23  Unnamed: 23               112 non-null    object \n",
      " 24  Unnamed: 24               112 non-null    object \n",
      " 25  Unnamed: 25               112 non-null    object \n",
      " 26  Unnamed: 26               112 non-null    object \n",
      " 27  Unnamed: 27               112 non-null    object \n",
      " 28  Unnamed: 28               112 non-null    object \n",
      " 29  Unnamed: 29               112 non-null    object \n",
      " 30  Unnamed: 30               0 non-null      float64\n",
      " 31  Pillar: Renewable Energy  112 non-null    object \n",
      " 32  Unnamed: 32               112 non-null    object \n",
      " 33  Unnamed: 33               112 non-null    object \n",
      " 34  Unnamed: 34               112 non-null    object \n",
      " 35  Unnamed: 35               112 non-null    object \n",
      " 36  Unnamed: 36               112 non-null    object \n",
      " 37  Unnamed: 37               112 non-null    object \n",
      "dtypes: float64(4), object(34)\n",
      "memory usage: 33.4+ KB\n"
     ]
    }
   ],
   "source": [
    "rise_df = pd.read_excel('Documents/NSS/Python/projects/DA13_Energy_Capstone/Data/rise-2016-database-for-download.xlsx')\n",
    "rise_df.info()"
   ]
  },
  {
   "cell_type": "code",
   "execution_count": 11,
   "id": "dcd87474-b6bf-4388-92d1-857bdde2e4ae",
   "metadata": {},
   "outputs": [
    {
     "name": "stdout",
     "output_type": "stream",
     "text": [
      "<class 'pandas.core.frame.DataFrame'>\n",
      "RangeIndex: 1368 entries, 0 to 1367\n",
      "Data columns (total 29 columns):\n",
      " #   Column         Non-Null Count  Dtype \n",
      "---  ------         --------------  ----- \n",
      " 0   Series Name    1368 non-null   object\n",
      " 1   Series Code    1368 non-null   object\n",
      " 2   Country Name   1368 non-null   object\n",
      " 3   Country Code   1368 non-null   object\n",
      " 4   1990 [YR1990]  1353 non-null   object\n",
      " 5   1991 [YR1991]  1364 non-null   object\n",
      " 6   1992 [YR1992]  1364 non-null   object\n",
      " 7   1993 [YR1993]  1364 non-null   object\n",
      " 8   1994 [YR1994]  1364 non-null   object\n",
      " 9   1995 [YR1995]  1366 non-null   object\n",
      " 10  1996 [YR1996]  1366 non-null   object\n",
      " 11  1997 [YR1997]  1366 non-null   object\n",
      " 12  1998 [YR1998]  1366 non-null   object\n",
      " 13  1999 [YR1999]  1366 non-null   object\n",
      " 14  2000 [YR2000]  1366 non-null   object\n",
      " 15  2001 [YR2001]  1366 non-null   object\n",
      " 16  2002 [YR2002]  1367 non-null   object\n",
      " 17  2003 [YR2003]  1367 non-null   object\n",
      " 18  2004 [YR2004]  1368 non-null   object\n",
      " 19  2005 [YR2005]  1368 non-null   object\n",
      " 20  2006 [YR2006]  1368 non-null   object\n",
      " 21  2007 [YR2007]  1368 non-null   object\n",
      " 22  2008 [YR2008]  1368 non-null   object\n",
      " 23  2009 [YR2009]  1368 non-null   object\n",
      " 24  2010 [YR2010]  1368 non-null   object\n",
      " 25  2011 [YR2011]  1368 non-null   object\n",
      " 26  2012 [YR2012]  1368 non-null   object\n",
      " 27  2013 [YR2013]  1368 non-null   object\n",
      " 28  2014 [YR2014]  1368 non-null   object\n",
      "dtypes: object(29)\n",
      "memory usage: 310.1+ KB\n"
     ]
    }
   ],
   "source": [
    "gtfenergy_df = pd.read_csv('Documents/NSS/Python/projects/DA13_Energy_Capstone/Data/gtfenergyaccessdata.csv')\n",
    "gtfenergy_df.info()"
   ]
  },
  {
   "cell_type": "code",
   "execution_count": 15,
   "id": "263b391b-d38d-407a-bdbd-ef68cce155a3",
   "metadata": {},
   "outputs": [
    {
     "name": "stdout",
     "output_type": "stream",
     "text": [
      "<class 'pandas.core.frame.DataFrame'>\n",
      "RangeIndex: 2849 entries, 0 to 2848\n",
      "Data columns (total 31 columns):\n",
      " #   Column          Non-Null Count  Dtype  \n",
      "---  ------          --------------  -----  \n",
      " 0   Country Name    2849 non-null   object \n",
      " 1   Country Code    2849 non-null   object \n",
      " 2   Indicator Name  2849 non-null   object \n",
      " 3   Indicator Code  2849 non-null   object \n",
      " 4   1990            2120 non-null   float64\n",
      " 5   1991            2121 non-null   float64\n",
      " 6   1992            2139 non-null   float64\n",
      " 7   1993            2137 non-null   float64\n",
      " 8   1994            2145 non-null   float64\n",
      " 9   1995            2160 non-null   float64\n",
      " 10  1996            2165 non-null   float64\n",
      " 11  1997            2168 non-null   float64\n",
      " 12  1998            2169 non-null   float64\n",
      " 13  1999            2173 non-null   float64\n",
      " 14  2000            2372 non-null   float64\n",
      " 15  2001            2375 non-null   float64\n",
      " 16  2002            2384 non-null   float64\n",
      " 17  2003            2385 non-null   float64\n",
      " 18  2004            2386 non-null   float64\n",
      " 19  2005            2392 non-null   float64\n",
      " 20  2006            2392 non-null   float64\n",
      " 21  2007            2399 non-null   float64\n",
      " 22  2008            2397 non-null   float64\n",
      " 23  2009            2400 non-null   float64\n",
      " 24  2010            2400 non-null   float64\n",
      " 25  2011            2400 non-null   float64\n",
      " 26  2012            2407 non-null   float64\n",
      " 27  2013            2407 non-null   float64\n",
      " 28  2014            2406 non-null   float64\n",
      " 29  2015            2400 non-null   float64\n",
      " 30  2016            824 non-null    float64\n",
      "dtypes: float64(27), object(4)\n",
      "memory usage: 690.1+ KB\n"
     ]
    }
   ],
   "source": [
    "se4all_df = pd.read_excel('Documents/NSS/Python/projects/DA13_Energy_Capstone/Data/SE4ALLEXCEL.xlsx')\n",
    "se4all_df.info()"
   ]
  },
  {
   "cell_type": "code",
   "execution_count": 17,
   "id": "2fba4f05-91ae-42ea-9bb2-b61030251e1f",
   "metadata": {},
   "outputs": [
    {
     "data": {
      "text/html": [
       "<div>\n",
       "<style scoped>\n",
       "    .dataframe tbody tr th:only-of-type {\n",
       "        vertical-align: middle;\n",
       "    }\n",
       "\n",
       "    .dataframe tbody tr th {\n",
       "        vertical-align: top;\n",
       "    }\n",
       "\n",
       "    .dataframe thead th {\n",
       "        text-align: right;\n",
       "    }\n",
       "</style>\n",
       "<table border=\"1\" class=\"dataframe\">\n",
       "  <thead>\n",
       "    <tr style=\"text-align: right;\">\n",
       "      <th></th>\n",
       "      <th>Country Name</th>\n",
       "      <th>Country Code</th>\n",
       "      <th>Indicator Name</th>\n",
       "      <th>Indicator Code</th>\n",
       "      <th>1990</th>\n",
       "      <th>1991</th>\n",
       "      <th>1992</th>\n",
       "      <th>1993</th>\n",
       "      <th>1994</th>\n",
       "      <th>1995</th>\n",
       "      <th>...</th>\n",
       "      <th>2007</th>\n",
       "      <th>2008</th>\n",
       "      <th>2009</th>\n",
       "      <th>2010</th>\n",
       "      <th>2011</th>\n",
       "      <th>2012</th>\n",
       "      <th>2013</th>\n",
       "      <th>2014</th>\n",
       "      <th>2015</th>\n",
       "      <th>2016</th>\n",
       "    </tr>\n",
       "  </thead>\n",
       "  <tbody>\n",
       "    <tr>\n",
       "      <th>0</th>\n",
       "      <td>BES Islands</td>\n",
       "      <td>BES</td>\n",
       "      <td>Access to Clean Fuels and Technologies for coo...</td>\n",
       "      <td>2.1_ACCESS.CFT.TOT</td>\n",
       "      <td>NaN</td>\n",
       "      <td>NaN</td>\n",
       "      <td>NaN</td>\n",
       "      <td>NaN</td>\n",
       "      <td>NaN</td>\n",
       "      <td>NaN</td>\n",
       "      <td>...</td>\n",
       "      <td>NaN</td>\n",
       "      <td>NaN</td>\n",
       "      <td>NaN</td>\n",
       "      <td>NaN</td>\n",
       "      <td>NaN</td>\n",
       "      <td>NaN</td>\n",
       "      <td>NaN</td>\n",
       "      <td>NaN</td>\n",
       "      <td>NaN</td>\n",
       "      <td>NaN</td>\n",
       "    </tr>\n",
       "    <tr>\n",
       "      <th>1</th>\n",
       "      <td>BES Islands</td>\n",
       "      <td>BES</td>\n",
       "      <td>Access to electricity (% of rural population w...</td>\n",
       "      <td>1.2_ACCESS.ELECTRICITY.RURAL</td>\n",
       "      <td>NaN</td>\n",
       "      <td>NaN</td>\n",
       "      <td>NaN</td>\n",
       "      <td>NaN</td>\n",
       "      <td>NaN</td>\n",
       "      <td>NaN</td>\n",
       "      <td>...</td>\n",
       "      <td>NaN</td>\n",
       "      <td>NaN</td>\n",
       "      <td>NaN</td>\n",
       "      <td>NaN</td>\n",
       "      <td>NaN</td>\n",
       "      <td>NaN</td>\n",
       "      <td>NaN</td>\n",
       "      <td>NaN</td>\n",
       "      <td>NaN</td>\n",
       "      <td>NaN</td>\n",
       "    </tr>\n",
       "    <tr>\n",
       "      <th>2</th>\n",
       "      <td>BES Islands</td>\n",
       "      <td>BES</td>\n",
       "      <td>Access to electricity (% of total population)</td>\n",
       "      <td>1.1_ACCESS.ELECTRICITY.TOT</td>\n",
       "      <td>NaN</td>\n",
       "      <td>NaN</td>\n",
       "      <td>NaN</td>\n",
       "      <td>NaN</td>\n",
       "      <td>NaN</td>\n",
       "      <td>NaN</td>\n",
       "      <td>...</td>\n",
       "      <td>NaN</td>\n",
       "      <td>NaN</td>\n",
       "      <td>NaN</td>\n",
       "      <td>NaN</td>\n",
       "      <td>NaN</td>\n",
       "      <td>NaN</td>\n",
       "      <td>NaN</td>\n",
       "      <td>NaN</td>\n",
       "      <td>NaN</td>\n",
       "      <td>NaN</td>\n",
       "    </tr>\n",
       "    <tr>\n",
       "      <th>3</th>\n",
       "      <td>BES Islands</td>\n",
       "      <td>BES</td>\n",
       "      <td>Access to electricity (% of urban population w...</td>\n",
       "      <td>1.3_ACCESS.ELECTRICITY.URBAN</td>\n",
       "      <td>NaN</td>\n",
       "      <td>NaN</td>\n",
       "      <td>NaN</td>\n",
       "      <td>NaN</td>\n",
       "      <td>NaN</td>\n",
       "      <td>NaN</td>\n",
       "      <td>...</td>\n",
       "      <td>NaN</td>\n",
       "      <td>NaN</td>\n",
       "      <td>NaN</td>\n",
       "      <td>NaN</td>\n",
       "      <td>NaN</td>\n",
       "      <td>NaN</td>\n",
       "      <td>NaN</td>\n",
       "      <td>NaN</td>\n",
       "      <td>NaN</td>\n",
       "      <td>NaN</td>\n",
       "    </tr>\n",
       "    <tr>\n",
       "      <th>4</th>\n",
       "      <td>BES Islands</td>\n",
       "      <td>BES</td>\n",
       "      <td>Energy intensity level of primary energy (MJ/2...</td>\n",
       "      <td>6.1_PRIMARY.ENERGY.INTENSITY</td>\n",
       "      <td>NaN</td>\n",
       "      <td>NaN</td>\n",
       "      <td>NaN</td>\n",
       "      <td>NaN</td>\n",
       "      <td>NaN</td>\n",
       "      <td>NaN</td>\n",
       "      <td>...</td>\n",
       "      <td>NaN</td>\n",
       "      <td>NaN</td>\n",
       "      <td>NaN</td>\n",
       "      <td>NaN</td>\n",
       "      <td>NaN</td>\n",
       "      <td>NaN</td>\n",
       "      <td>NaN</td>\n",
       "      <td>NaN</td>\n",
       "      <td>NaN</td>\n",
       "      <td>NaN</td>\n",
       "    </tr>\n",
       "  </tbody>\n",
       "</table>\n",
       "<p>5 rows × 31 columns</p>\n",
       "</div>"
      ],
      "text/plain": [
       "  Country Name Country Code  \\\n",
       "0  BES Islands          BES   \n",
       "1  BES Islands          BES   \n",
       "2  BES Islands          BES   \n",
       "3  BES Islands          BES   \n",
       "4  BES Islands          BES   \n",
       "\n",
       "                                      Indicator Name  \\\n",
       "0  Access to Clean Fuels and Technologies for coo...   \n",
       "1  Access to electricity (% of rural population w...   \n",
       "2      Access to electricity (% of total population)   \n",
       "3  Access to electricity (% of urban population w...   \n",
       "4  Energy intensity level of primary energy (MJ/2...   \n",
       "\n",
       "                 Indicator Code  1990  1991  1992  1993  1994  1995  ...  \\\n",
       "0            2.1_ACCESS.CFT.TOT   NaN   NaN   NaN   NaN   NaN   NaN  ...   \n",
       "1  1.2_ACCESS.ELECTRICITY.RURAL   NaN   NaN   NaN   NaN   NaN   NaN  ...   \n",
       "2    1.1_ACCESS.ELECTRICITY.TOT   NaN   NaN   NaN   NaN   NaN   NaN  ...   \n",
       "3  1.3_ACCESS.ELECTRICITY.URBAN   NaN   NaN   NaN   NaN   NaN   NaN  ...   \n",
       "4  6.1_PRIMARY.ENERGY.INTENSITY   NaN   NaN   NaN   NaN   NaN   NaN  ...   \n",
       "\n",
       "   2007  2008  2009  2010  2011  2012  2013  2014  2015  2016  \n",
       "0   NaN   NaN   NaN   NaN   NaN   NaN   NaN   NaN   NaN   NaN  \n",
       "1   NaN   NaN   NaN   NaN   NaN   NaN   NaN   NaN   NaN   NaN  \n",
       "2   NaN   NaN   NaN   NaN   NaN   NaN   NaN   NaN   NaN   NaN  \n",
       "3   NaN   NaN   NaN   NaN   NaN   NaN   NaN   NaN   NaN   NaN  \n",
       "4   NaN   NaN   NaN   NaN   NaN   NaN   NaN   NaN   NaN   NaN  \n",
       "\n",
       "[5 rows x 31 columns]"
      ]
     },
     "execution_count": 17,
     "metadata": {},
     "output_type": "execute_result"
    }
   ],
   "source": [
    "se4all_df.head()"
   ]
  },
  {
   "cell_type": "code",
   "execution_count": 19,
   "id": "f7c56312-2d9e-4b61-9be9-f2bc7108334f",
   "metadata": {},
   "outputs": [],
   "source": [
    "#null values will need to be filtered out"
   ]
  },
  {
   "cell_type": "markdown",
   "id": "bdedecee-2825-4da1-a24d-b01e0cd143a7",
   "metadata": {},
   "source": [
    "# What is the total access to electricity for each country?"
   ]
  },
  {
   "cell_type": "code",
   "execution_count": 22,
   "id": "54906bf4-4a4a-47dd-bcf6-cccc72f89484",
   "metadata": {},
   "outputs": [],
   "source": [
    "#Access to electricity(% of total population)"
   ]
  },
  {
   "cell_type": "code",
   "execution_count": 24,
   "id": "462fc04d-6ea9-4412-9e71-2475ac297f9a",
   "metadata": {
    "scrolled": true
   },
   "outputs": [
    {
     "ename": "ValueError",
     "evalue": "Cannot set a DataFrame with multiple columns to the single column tot_elec",
     "output_type": "error",
     "traceback": [
      "\u001b[1;31m---------------------------------------------------------------------------\u001b[0m",
      "\u001b[1;31mValueError\u001b[0m                                Traceback (most recent call last)",
      "\u001b[1;32m~\\AppData\\Local\\Temp\\ipykernel_162656\\3352404068.py\u001b[0m in \u001b[0;36m?\u001b[1;34m()\u001b[0m\n\u001b[1;32m----> 1\u001b[1;33m \u001b[0mse4all_df\u001b[0m\u001b[1;33m[\u001b[0m\u001b[1;34m'tot_elec'\u001b[0m\u001b[1;33m]\u001b[0m \u001b[1;33m=\u001b[0m \u001b[0mse4all_df\u001b[0m\u001b[1;33m[\u001b[0m\u001b[0mse4all_df\u001b[0m\u001b[1;33m[\u001b[0m\u001b[1;34m'Indicator Name'\u001b[0m\u001b[1;33m]\u001b[0m\u001b[1;33m==\u001b[0m\u001b[1;34m'Access to electricity (% of total population)'\u001b[0m\u001b[1;33m]\u001b[0m\u001b[1;33m\u001b[0m\u001b[1;33m\u001b[0m\u001b[0m\n\u001b[0m\u001b[0;32m      2\u001b[0m \u001b[0mse4all_df\u001b[0m\u001b[1;33m\u001b[0m\u001b[1;33m\u001b[0m\u001b[0m\n",
      "\u001b[1;32m~\\anaconda3\\Lib\\site-packages\\pandas\\core\\frame.py\u001b[0m in \u001b[0;36m?\u001b[1;34m(self, key, value)\u001b[0m\n\u001b[0;32m   4297\u001b[0m             \u001b[0mself\u001b[0m\u001b[1;33m.\u001b[0m\u001b[0m_setitem_frame\u001b[0m\u001b[1;33m(\u001b[0m\u001b[0mkey\u001b[0m\u001b[1;33m,\u001b[0m \u001b[0mvalue\u001b[0m\u001b[1;33m)\u001b[0m\u001b[1;33m\u001b[0m\u001b[1;33m\u001b[0m\u001b[0m\n\u001b[0;32m   4298\u001b[0m         \u001b[1;32melif\u001b[0m \u001b[0misinstance\u001b[0m\u001b[1;33m(\u001b[0m\u001b[0mkey\u001b[0m\u001b[1;33m,\u001b[0m \u001b[1;33m(\u001b[0m\u001b[0mSeries\u001b[0m\u001b[1;33m,\u001b[0m \u001b[0mnp\u001b[0m\u001b[1;33m.\u001b[0m\u001b[0mndarray\u001b[0m\u001b[1;33m,\u001b[0m \u001b[0mlist\u001b[0m\u001b[1;33m,\u001b[0m \u001b[0mIndex\u001b[0m\u001b[1;33m)\u001b[0m\u001b[1;33m)\u001b[0m\u001b[1;33m:\u001b[0m\u001b[1;33m\u001b[0m\u001b[1;33m\u001b[0m\u001b[0m\n\u001b[0;32m   4299\u001b[0m             \u001b[0mself\u001b[0m\u001b[1;33m.\u001b[0m\u001b[0m_setitem_array\u001b[0m\u001b[1;33m(\u001b[0m\u001b[0mkey\u001b[0m\u001b[1;33m,\u001b[0m \u001b[0mvalue\u001b[0m\u001b[1;33m)\u001b[0m\u001b[1;33m\u001b[0m\u001b[1;33m\u001b[0m\u001b[0m\n\u001b[0;32m   4300\u001b[0m         \u001b[1;32melif\u001b[0m \u001b[0misinstance\u001b[0m\u001b[1;33m(\u001b[0m\u001b[0mvalue\u001b[0m\u001b[1;33m,\u001b[0m \u001b[0mDataFrame\u001b[0m\u001b[1;33m)\u001b[0m\u001b[1;33m:\u001b[0m\u001b[1;33m\u001b[0m\u001b[1;33m\u001b[0m\u001b[0m\n\u001b[1;32m-> 4301\u001b[1;33m             \u001b[0mself\u001b[0m\u001b[1;33m.\u001b[0m\u001b[0m_set_item_frame_value\u001b[0m\u001b[1;33m(\u001b[0m\u001b[0mkey\u001b[0m\u001b[1;33m,\u001b[0m \u001b[0mvalue\u001b[0m\u001b[1;33m)\u001b[0m\u001b[1;33m\u001b[0m\u001b[1;33m\u001b[0m\u001b[0m\n\u001b[0m\u001b[0;32m   4302\u001b[0m         elif (\n\u001b[0;32m   4303\u001b[0m             \u001b[0mis_list_like\u001b[0m\u001b[1;33m(\u001b[0m\u001b[0mvalue\u001b[0m\u001b[1;33m)\u001b[0m\u001b[1;33m\u001b[0m\u001b[1;33m\u001b[0m\u001b[0m\n\u001b[0;32m   4304\u001b[0m             \u001b[1;32mand\u001b[0m \u001b[1;32mnot\u001b[0m \u001b[0mself\u001b[0m\u001b[1;33m.\u001b[0m\u001b[0mcolumns\u001b[0m\u001b[1;33m.\u001b[0m\u001b[0mis_unique\u001b[0m\u001b[1;33m\u001b[0m\u001b[1;33m\u001b[0m\u001b[0m\n",
      "\u001b[1;32m~\\anaconda3\\Lib\\site-packages\\pandas\\core\\frame.py\u001b[0m in \u001b[0;36m?\u001b[1;34m(self, key, value)\u001b[0m\n\u001b[0;32m   4455\u001b[0m \u001b[1;33m\u001b[0m\u001b[0m\n\u001b[0;32m   4456\u001b[0m             \u001b[1;32mreturn\u001b[0m \u001b[0mself\u001b[0m\u001b[1;33m.\u001b[0m\u001b[0misetitem\u001b[0m\u001b[1;33m(\u001b[0m\u001b[0mlocs\u001b[0m\u001b[1;33m,\u001b[0m \u001b[0mvalue\u001b[0m\u001b[1;33m)\u001b[0m\u001b[1;33m\u001b[0m\u001b[1;33m\u001b[0m\u001b[0m\n\u001b[0;32m   4457\u001b[0m \u001b[1;33m\u001b[0m\u001b[0m\n\u001b[0;32m   4458\u001b[0m         \u001b[1;32mif\u001b[0m \u001b[0mlen\u001b[0m\u001b[1;33m(\u001b[0m\u001b[0mvalue\u001b[0m\u001b[1;33m.\u001b[0m\u001b[0mcolumns\u001b[0m\u001b[1;33m)\u001b[0m \u001b[1;33m>\u001b[0m \u001b[1;36m1\u001b[0m\u001b[1;33m:\u001b[0m\u001b[1;33m\u001b[0m\u001b[1;33m\u001b[0m\u001b[0m\n\u001b[1;32m-> 4459\u001b[1;33m             raise ValueError(\n\u001b[0m\u001b[0;32m   4460\u001b[0m                 \u001b[1;34m\"Cannot set a DataFrame with multiple columns to the single \"\u001b[0m\u001b[1;33m\u001b[0m\u001b[1;33m\u001b[0m\u001b[0m\n\u001b[0;32m   4461\u001b[0m                 \u001b[1;33mf\"\u001b[0m\u001b[1;33mcolumn \u001b[0m\u001b[1;33m{\u001b[0m\u001b[0mkey\u001b[0m\u001b[1;33m}\u001b[0m\u001b[1;33m\"\u001b[0m\u001b[1;33m\u001b[0m\u001b[1;33m\u001b[0m\u001b[0m\n\u001b[0;32m   4462\u001b[0m             \u001b[1;33m)\u001b[0m\u001b[1;33m\u001b[0m\u001b[1;33m\u001b[0m\u001b[0m\n",
      "\u001b[1;31mValueError\u001b[0m: Cannot set a DataFrame with multiple columns to the single column tot_elec"
     ]
    }
   ],
   "source": [
    "se4all_df['tot_elec'] = se4all_df[se4all_df['Indicator Name']=='Access to electricity (% of total population)']\n",
    "se4all_df"
   ]
  },
  {
   "cell_type": "code",
   "execution_count": 26,
   "id": "f3d2f92f-769d-4f88-83c9-129ba7301b64",
   "metadata": {},
   "outputs": [
    {
     "ename": "KeyError",
     "evalue": "'Column not found: tot_elec'",
     "output_type": "error",
     "traceback": [
      "\u001b[1;31m---------------------------------------------------------------------------\u001b[0m",
      "\u001b[1;31mKeyError\u001b[0m                                  Traceback (most recent call last)",
      "Cell \u001b[1;32mIn[26], line 2\u001b[0m\n\u001b[0;32m      1\u001b[0m se4all_countries \u001b[38;5;241m=\u001b[39m se4all_df\u001b[38;5;241m.\u001b[39mgroupby(\u001b[38;5;124m'\u001b[39m\u001b[38;5;124mCountry Name\u001b[39m\u001b[38;5;124m'\u001b[39m)\n\u001b[1;32m----> 2\u001b[0m se4all_tot_elec \u001b[38;5;241m=\u001b[39m se4all_countries[\u001b[38;5;124m'\u001b[39m\u001b[38;5;124mtot_elec\u001b[39m\u001b[38;5;124m'\u001b[39m]\u001b[38;5;241m.\u001b[39mcount()\u001b[38;5;241m.\u001b[39msort_values()\n\u001b[0;32m      3\u001b[0m \u001b[38;5;28mprint\u001b[39m(gdp_count\u001b[38;5;241m.\u001b[39mto_string())\n",
      "File \u001b[1;32m~\\anaconda3\\Lib\\site-packages\\pandas\\core\\groupby\\generic.py:1951\u001b[0m, in \u001b[0;36mDataFrameGroupBy.__getitem__\u001b[1;34m(self, key)\u001b[0m\n\u001b[0;32m   1944\u001b[0m \u001b[38;5;28;01mif\u001b[39;00m \u001b[38;5;28misinstance\u001b[39m(key, \u001b[38;5;28mtuple\u001b[39m) \u001b[38;5;129;01mand\u001b[39;00m \u001b[38;5;28mlen\u001b[39m(key) \u001b[38;5;241m>\u001b[39m \u001b[38;5;241m1\u001b[39m:\n\u001b[0;32m   1945\u001b[0m     \u001b[38;5;66;03m# if len == 1, then it becomes a SeriesGroupBy and this is actually\u001b[39;00m\n\u001b[0;32m   1946\u001b[0m     \u001b[38;5;66;03m# valid syntax, so don't raise\u001b[39;00m\n\u001b[0;32m   1947\u001b[0m     \u001b[38;5;28;01mraise\u001b[39;00m \u001b[38;5;167;01mValueError\u001b[39;00m(\n\u001b[0;32m   1948\u001b[0m         \u001b[38;5;124m\"\u001b[39m\u001b[38;5;124mCannot subset columns with a tuple with more than one element. \u001b[39m\u001b[38;5;124m\"\u001b[39m\n\u001b[0;32m   1949\u001b[0m         \u001b[38;5;124m\"\u001b[39m\u001b[38;5;124mUse a list instead.\u001b[39m\u001b[38;5;124m\"\u001b[39m\n\u001b[0;32m   1950\u001b[0m     )\n\u001b[1;32m-> 1951\u001b[0m \u001b[38;5;28;01mreturn\u001b[39;00m \u001b[38;5;28msuper\u001b[39m()\u001b[38;5;241m.\u001b[39m\u001b[38;5;21m__getitem__\u001b[39m(key)\n",
      "File \u001b[1;32m~\\anaconda3\\Lib\\site-packages\\pandas\\core\\base.py:244\u001b[0m, in \u001b[0;36mSelectionMixin.__getitem__\u001b[1;34m(self, key)\u001b[0m\n\u001b[0;32m    242\u001b[0m \u001b[38;5;28;01melse\u001b[39;00m:\n\u001b[0;32m    243\u001b[0m     \u001b[38;5;28;01mif\u001b[39;00m key \u001b[38;5;129;01mnot\u001b[39;00m \u001b[38;5;129;01min\u001b[39;00m \u001b[38;5;28mself\u001b[39m\u001b[38;5;241m.\u001b[39mobj:\n\u001b[1;32m--> 244\u001b[0m         \u001b[38;5;28;01mraise\u001b[39;00m \u001b[38;5;167;01mKeyError\u001b[39;00m(\u001b[38;5;124mf\u001b[39m\u001b[38;5;124m\"\u001b[39m\u001b[38;5;124mColumn not found: \u001b[39m\u001b[38;5;132;01m{\u001b[39;00mkey\u001b[38;5;132;01m}\u001b[39;00m\u001b[38;5;124m\"\u001b[39m)\n\u001b[0;32m    245\u001b[0m     ndim \u001b[38;5;241m=\u001b[39m \u001b[38;5;28mself\u001b[39m\u001b[38;5;241m.\u001b[39mobj[key]\u001b[38;5;241m.\u001b[39mndim\n\u001b[0;32m    246\u001b[0m     \u001b[38;5;28;01mreturn\u001b[39;00m \u001b[38;5;28mself\u001b[39m\u001b[38;5;241m.\u001b[39m_gotitem(key, ndim\u001b[38;5;241m=\u001b[39mndim)\n",
      "\u001b[1;31mKeyError\u001b[0m: 'Column not found: tot_elec'"
     ]
    }
   ],
   "source": [
    "se4all_countries = se4all_df.groupby('Country Name')\n",
    "se4all_tot_elec = se4all_countries['tot_elec'].count().sort_values()\n",
    "print(gdp_count.to_string())"
   ]
  },
  {
   "cell_type": "code",
   "execution_count": null,
   "id": "3056c8ea-e9f2-4f04-9ad2-08ba4be7dee4",
   "metadata": {},
   "outputs": [],
   "source": [
    "# this is a test"
   ]
  },
  {
   "cell_type": "code",
   "execution_count": 1,
   "id": "b4aa5b8e-3d08-44a6-a80f-18119e872fb4",
   "metadata": {},
   "outputs": [],
   "source": [
    "# this is test 3"
   ]
  },
  {
   "cell_type": "code",
   "execution_count": null,
   "id": "9dd110f6-0f6f-465b-86e6-711befb6e8f3",
   "metadata": {},
   "outputs": [],
   "source": []
  }
 ],
 "metadata": {
  "kernelspec": {
   "display_name": "Python 3 (ipykernel)",
   "language": "python",
   "name": "python3"
  },
  "language_info": {
   "codemirror_mode": {
    "name": "ipython",
    "version": 3
   },
   "file_extension": ".py",
   "mimetype": "text/x-python",
   "name": "python",
   "nbconvert_exporter": "python",
   "pygments_lexer": "ipython3",
   "version": "3.12.4"
  }
 },
 "nbformat": 4,
 "nbformat_minor": 5
}
